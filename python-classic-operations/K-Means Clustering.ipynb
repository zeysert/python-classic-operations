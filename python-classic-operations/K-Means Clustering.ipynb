{
 "cells": [
  {
   "cell_type": "markdown",
   "metadata": {},
   "source": [
    "# K-Means Clustering"
   ]
  },
  {
   "cell_type": "markdown",
   "metadata": {},
   "source": [
    "\n",
    "\n",
    "K-Means clustering is a form of unsupervised learning where the goal is to discover clusters - groups - not known ahead of time within the data. We do not have the target, but instead will form clusters and then analyze them for any meaning we can derive."
   ]
  },
  {
   "cell_type": "markdown",
   "metadata": {},
   "source": [
    "\n"
   ]
  },
  {
   "cell_type": "code",
   "execution_count": 119,
   "metadata": {},
   "outputs": [],
   "source": [
    "from __future__ import annotations\n",
    "from typing import TypeVar, Generic, List, Sequence\n",
    "from copy import deepcopy\n",
    "from functools import partial\n",
    "from random import uniform\n",
    "from statistics import mean, pstdev\n",
    "from dataclasses import dataclass"
   ]
  },
  {
   "cell_type": "markdown",
   "metadata": {},
   "source": [
    "#   Function to Calculate Z-Scores"
   ]
  },
  {
   "cell_type": "code",
   "execution_count": 120,
   "metadata": {},
   "outputs": [],
   "source": [
    "def zscores(original: Sequence[float]) -> List[float]:\n",
    "    \"\"\"\n",
    "    Calculate zscores of a sequence.\n",
    "    \"\"\"\n",
    "    avg: float = mean(original)\n",
    "    std: float = pstdev(original)\n",
    "        \n",
    "    # Cannot divide by 0\n",
    "    if std == 0:\n",
    "        return original\n",
    "    \n",
    "    # Apply the zscore formalize to normalize\n",
    "    return [(x - avg) / std for x in original]"
   ]
  },
  {
   "cell_type": "markdown",
   "metadata": {},
   "source": [
    "# Define a Dataclass"
   ]
  },
  {
   "cell_type": "code",
   "execution_count": 121,
   "metadata": {},
   "outputs": [],
   "source": [
    "from math import sqrt\n",
    "\n",
    "class DataPoint:\n",
    "    def __init__(self, initial: Iterable[float]) -> None:\n",
    "        self._originals: Tuple[float, ...] = tuple(initial)\n",
    "        self.dimensions: Tuple[float, ...] = tuple(initial)\n",
    "            \n",
    "    @property\n",
    "    def num_dimensions(self) -> int:\n",
    "        return len(self.dimensions)\n",
    "    \n",
    "    def distance(self, other: DataPoint) -> float:\n",
    "        \"\"\"\n",
    "        Distance between one datapoint and another. Defined as the Euclidean distance.\n",
    "        \"\"\"\n",
    "        combined: Iterable[Tuple[float, float]] = zip(self.dimensions, other.dimensions)\n",
    "        differences: List[float] = [(x - y) ** 2 for x, y in combined]\n",
    "        return sqrt(sum(differences))\n",
    "    \n",
    "    def __eq__(self, other: object) -> bool:\n",
    "        if not isinstance(other, DataPoint):\n",
    "            return NotImplemented\n",
    "        return self.dimensions == other.dimensions\n",
    "    \n",
    "    def __repr__(self) -> str:\n",
    "        return self._originals.__repr__()"
   ]
  },
  {
   "cell_type": "code",
   "execution_count": 122,
   "metadata": {},
   "outputs": [
    {
     "name": "stdout",
     "output_type": "stream",
     "text": [
      "(9.8, 5.6, 11.2)\n"
     ]
    }
   ],
   "source": [
    "dp = DataPoint(initial=(9.8, 5.6, 11.2))\n",
    "dp2 = DataPoint(initial=(11.3, 4.5, 5.4))\n",
    "\n",
    "print(dp)"
   ]
  },
  {
   "cell_type": "code",
   "execution_count": 123,
   "metadata": {},
   "outputs": [
    {
     "name": "stdout",
     "output_type": "stream",
     "text": [
      "False\n"
     ]
    }
   ],
   "source": [
    "print(dp==dp2)\n"
   ]
  },
  {
   "cell_type": "code",
   "execution_count": 124,
   "metadata": {},
   "outputs": [
    {
     "data": {
      "text/plain": [
       "6.090976933136423"
      ]
     },
     "execution_count": 124,
     "metadata": {},
     "output_type": "execute_result"
    }
   ],
   "source": [
    "dp.distance(dp2)\n"
   ]
  },
  {
   "cell_type": "code",
   "execution_count": 125,
   "metadata": {},
   "outputs": [
    {
     "data": {
      "text/plain": [
       "6.090976933136423"
      ]
     },
     "execution_count": 125,
     "metadata": {},
     "output_type": "execute_result"
    }
   ],
   "source": [
    "dp2.distance(dp)\n"
   ]
  },
  {
   "cell_type": "code",
   "execution_count": 126,
   "metadata": {},
   "outputs": [
    {
     "data": {
      "text/plain": [
       "[1.4036791557351331, -0.8510495668630337, -0.5526295888720998]"
      ]
     },
     "execution_count": 126,
     "metadata": {},
     "output_type": "execute_result"
    }
   ],
   "source": [
    "zscores(dp._originals)\n",
    "zscores(dp2._originals)"
   ]
  },
  {
   "cell_type": "markdown",
   "metadata": {},
   "source": [
    "# Normalization"
   ]
  },
  {
   "cell_type": "markdown",
   "metadata": {},
   "source": [
    "K-Means is a distance based algorithm, which means it requires the scale of data to be the same for each data point. One way to do this is through calculating the zscores of each datapoint (also called the standard score) which takes the average and divides by the standard deviation to put points on the same scale."
   ]
  },
  {
   "cell_type": "markdown",
   "metadata": {},
   "source": [
    "# K-Means Algorithm"
   ]
  },
  {
   "cell_type": "markdown",
   "metadata": {},
   "source": [
    "1.Initialize \"k\" empty clusters\n",
    "2.Normalize all data points\n",
    "3.Create random centroids for each cluster\n",
    "4.Assign ach data point to the cluster of the centroid to which it is closest\n",
    "5.Recalculate each centroid based on the data points assigned to it\n",
    "6.Continue until no data points are re-assigned or until the maximum number of iterations is reached."
   ]
  },
  {
   "cell_type": "code",
   "execution_count": 127,
   "metadata": {},
   "outputs": [],
   "source": [
    "from random import sample\n",
    "\n",
    "Point = TypeVar(\"Point\", bound=DataPoint)\n",
    "\n",
    "\n",
    "class KMeans(Generic[Point]):\n",
    "    @dataclass\n",
    "    class Cluster:\n",
    "        points: List[Point]\n",
    "        centroid: DataPoint\n",
    "\n",
    "    def __init__(self, k: int, points: List[Point]) -> None:\n",
    "        if k < 1:  # Must have at least one cluster!\n",
    "            raise ValueError(\"k must be >= 1\")\n",
    "        self._points: List[Point] = points\n",
    "        self._zscore_normalize()\n",
    "\n",
    "        # Initial clusters with random centroids\n",
    "        self._clusters: List[KMeans.Cluster] = [KMeans.Cluster([], centroid) for centroid in self._random_centroids(k=k)]\n",
    "\n",
    "    @property\n",
    "    def _centroids(self) -> List[DataPoint]:\n",
    "        return [x.centroid for x in self._clusters]\n",
    "\n",
    "    def _dimension_slice(self, dimension: int) -> List[float]:\n",
    "        \"\"\"\n",
    "        Return a column of data.\n",
    "        \"\"\"\n",
    "        return [x.dimensions[dimension] for x in self._points]\n",
    "\n",
    "    def _zscore_normalize(self) -> None:\n",
    "        \"\"\"\n",
    "        Normalize each column to be zscores.\n",
    "        \"\"\"\n",
    "        # List of lists to hold zscored columns\n",
    "        zscored: List[List[float]] = [[] for _ in range(len(self._points))]\n",
    "\n",
    "        # Iterate through each column index\n",
    "        for dimension in range(self._points[0].num_dimensions):\n",
    "            # Extrac the column\n",
    "            dimension_slice: List[float] = self._dimension_slice(dimension)\n",
    "            for index, zscore in enumerate(zscores(dimension_slice)):\n",
    "                # Calculate the zscores of the column and keep track\n",
    "                zscored[index].append(zscore)\n",
    "\n",
    "        # Replace the points with their zscored equivalents\n",
    "        for i in range(len(self._points)):\n",
    "            self._points[i].dimensions = tuple(zscored[i])\n",
    "\n",
    "    def _random_centroids(self, k: int) -> List[DataPoint]:\n",
    "        \"\"\"\n",
    "        Select random points from data to serve as inital centroids.\n",
    "        \"\"\"\n",
    "        return sample(self._points, k=k)\n",
    "        \n",
    "\n",
    "    def _assign_clusters(self) -> None:\n",
    "        \"\"\"\n",
    "        Assign points to closest cluster measured by distance to centroid.\n",
    "        \"\"\"\n",
    "        for point in self._points:\n",
    "            # Find the closest centroid to the point\n",
    "            closest: DataPoint = min(\n",
    "                self._centroids, key=partial(DataPoint.distance, point)\n",
    "            )\n",
    "            idx: int = self._centroids.index(closest)\n",
    "            cluster: KMeans.Cluster = self._clusters[idx]\n",
    "            cluster.points.append(point)\n",
    "\n",
    "    def _generate_centroids(self) -> None:\n",
    "        \"\"\"\n",
    "        Calculate the centroids of each cluster using the mean of the points assigned to the cluster.\n",
    "        \"\"\"\n",
    "        for cluster in self._clusters:\n",
    "            if len(cluster.points) == 0:  # Do not move centroid if no points assigned\n",
    "                continue\n",
    "            means: List[float] = []\n",
    "            # Iterate through each dimension index\n",
    "            for dimension in range(cluster.points[0].num_dimensions):\n",
    "                # Extract the dimension (column)\n",
    "                # Cannot just use dimension slice because only concerned with points in cluster\n",
    "                dimension_slice: List[float] = [\n",
    "                    p.dimensions[dimension] for p in cluster.points\n",
    "                ]\n",
    "                # Calculate the mean of the dimension\n",
    "                means.append(mean(dimension_slice))\n",
    "            # Update the centroid of the cluster\n",
    "            cluster.centroid = DataPoint(means)\n",
    "\n",
    "    def run(self, max_iterations: int = 100) -> List[KMeans.Cluster]:\n",
    "        \"\"\"\n",
    "        Run the KMeans clustering algorithm to find clusters.\n",
    "        \"\"\"\n",
    "        for iteration in range(max_iterations):\n",
    "            # Clear out the clusters\n",
    "            for cluster in self._clusters:\n",
    "                cluster.points.clear()\n",
    "            # Assign points to closest cluster centroid\n",
    "            self._assign_clusters()\n",
    "            old_centroids: List[DataPoint] = deepcopy(self._centroids)\n",
    "            # Calculate new centroids based on assign points to clusters\n",
    "            self._generate_centroids()\n",
    "            # If no points have been reassigned\n",
    "            if old_centroids == self._centroids:\n",
    "                print(f\"Converged after {iteration} iterations.\")\n",
    "                return self._clusters\n",
    "        return self._clusters"
   ]
  },
  {
   "cell_type": "code",
   "execution_count": 128,
   "metadata": {},
   "outputs": [],
   "source": [
    "from random import randrange\n",
    "\n",
    "point_list = [DataPoint([randrange(10), randrange(10), randrange(10)]) for _ in range(10)]\n",
    "kmeans = KMeans(2, point_list)"
   ]
  },
  {
   "cell_type": "code",
   "execution_count": 129,
   "metadata": {},
   "outputs": [
    {
     "data": {
      "text/plain": [
       "[KMeans.Cluster(points=[], centroid=(8, 3, 9)),\n",
       " KMeans.Cluster(points=[], centroid=(1, 4, 4))]"
      ]
     },
     "execution_count": 129,
     "metadata": {},
     "output_type": "execute_result"
    }
   ],
   "source": [
    "kmeans._points\n",
    "kmeans._clusters"
   ]
  },
  {
   "cell_type": "code",
   "execution_count": 130,
   "metadata": {},
   "outputs": [
    {
     "name": "stdout",
     "output_type": "stream",
     "text": [
      "(0.9128709291752769, 0.8509629433967633, -0.685157523675888)\n",
      "(-0.6085806194501846, -1.1751393027860064, -0.685157523675888)\n",
      "(-0.6085806194501846, 1.2561833926333172, 0.03606092229873099)\n",
      "(1.5214515486254616, 1.661403841869871, 1.1178885912606593)\n",
      "(1.2171612389003692, -0.3646984043128985, 1.8391070372352782)\n",
      "(-0.9128709291752769, 0.04052204492365544, 0.03606092229873099)\n",
      "(0.9128709291752769, -0.7699188535494524, -1.406375969650507)\n",
      "(-1.2171612389003692, 0.44574249416020933, -1.0457667466631975)\n",
      "(-1.2171612389003692, -0.3646984043128985, -0.3245483006885785)\n",
      "(-2.2204460492503135e-17, -1.5803597520225603, 1.1178885912606593)\n"
     ]
    }
   ],
   "source": [
    "kmeans._zscore_normalize()\n",
    "\n",
    "for point in kmeans._points:\n",
    "    print(point.dimensions)"
   ]
  },
  {
   "cell_type": "code",
   "execution_count": 131,
   "metadata": {},
   "outputs": [
    {
     "data": {
      "text/plain": [
       "-4.163336342344337e-18"
      ]
     },
     "execution_count": 131,
     "metadata": {},
     "output_type": "execute_result"
    }
   ],
   "source": [
    "mean(kmeans._dimension_slice(0))\n",
    "mean(kmeans._dimension_slice(1))\n",
    "mean(kmeans._dimension_slice(2))"
   ]
  },
  {
   "cell_type": "code",
   "execution_count": 132,
   "metadata": {},
   "outputs": [
    {
     "data": {
      "text/plain": [
       "1.0"
      ]
     },
     "execution_count": 132,
     "metadata": {},
     "output_type": "execute_result"
    }
   ],
   "source": [
    "pstdev(kmeans._dimension_slice(0))\n",
    "pstdev(kmeans._dimension_slice(1))\n",
    "pstdev(kmeans._dimension_slice(2))"
   ]
  },
  {
   "cell_type": "markdown",
   "metadata": {},
   "source": [
    "# Test KMeans with Simple Points\n"
   ]
  },
  {
   "cell_type": "code",
   "execution_count": 133,
   "metadata": {},
   "outputs": [
    {
     "name": "stdout",
     "output_type": "stream",
     "text": [
      "Converged after 4 iterations.\n"
     ]
    }
   ],
   "source": [
    "point_list = [DataPoint([randrange(10), randrange(10), randrange(10)]) for _ in range(10)]\n",
    "kmeans = KMeans(2, point_list)\n",
    "result = kmeans.run()"
   ]
  },
  {
   "cell_type": "code",
   "execution_count": 134,
   "metadata": {},
   "outputs": [
    {
     "name": "stdout",
     "output_type": "stream",
     "text": [
      "Cluster 0 Points: [(7, 0, 3), (9, 3, 2), (3, 0, 3), (9, 0, 6)] Centroid: (0.5731205399256526, -1.1164186390004418, -0.17251638983558854).\n",
      "Cluster 1 Points: [(5, 9, 8), (8, 9, 9), (3, 7, 0), (4, 5, 6), (1, 6, 1), (6, 9, 2)] Centroid: (-0.38208035995043504, 0.7442790926669612, 0.11501092655705902).\n"
     ]
    }
   ],
   "source": [
    "for index, cluster in enumerate(result):\n",
    "    print(f\"Cluster {index} Points: {cluster.points} Centroid: {cluster.centroid}.\")"
   ]
  },
  {
   "cell_type": "markdown",
   "metadata": {},
   "source": [
    "# KMeans on Governors\n"
   ]
  },
  {
   "cell_type": "markdown",
   "metadata": {},
   "source": [
    "Try to find clusters of governors looking at age and longitude.\n",
    "\n"
   ]
  },
  {
   "cell_type": "code",
   "execution_count": 135,
   "metadata": {},
   "outputs": [],
   "source": [
    "class Governor(DataPoint):\n",
    "    \"\"\"\n",
    "    Class for representing a governor of a state.\n",
    "    \"\"\"\n",
    "    def __init__(self, longitude: float, age: float, state: str) -> None:\n",
    "        super().__init__([longitude, age])\n",
    "        self.longitude = longitude\n",
    "        self.age = age\n",
    "        self.state = state\n",
    "        \n",
    "    def __repr__(self) -> str:\n",
    "        return f\"{self.state}: (longitude: {self.longitude}, age: {self.age})\""
   ]
  },
  {
   "cell_type": "code",
   "execution_count": 136,
   "metadata": {},
   "outputs": [],
   "source": [
    "governors: List[Governor] = [\n",
    "    Governor(-86.79113, 72, \"Alabama\"),\n",
    "    Governor(-152.404419, 66, \"Alaska\"),\n",
    "    Governor(-111.431221, 53, \"Arizona\"),\n",
    "    Governor(-92.373123, 66, \"Arkansas\"),\n",
    "    Governor(-119.681564, 79, \"California\"),\n",
    "    Governor(-105.311104, 65, \"Colorado\"),\n",
    "    Governor(-72.755371, 61, \"Connecticut\"),\n",
    "    Governor(-75.507141, 61, \"Delaware\"),\n",
    "    Governor(-81.686783, 64, \"Florida\"),\n",
    "    Governor(-83.643074, 74, \"Georgia\"),\n",
    "    Governor(-157.498337, 60, \"Hawaii\"),\n",
    "    Governor(-114.478828, 75, \"Idaho\"),\n",
    "    Governor(-88.986137, 60, \"Illinois\"),\n",
    "    Governor(-86.258278, 49, \"Indiana\"),\n",
    "    Governor(-93.210526, 57, \"Iowa\"),\n",
    "    Governor(-96.726486, 60, \"Kansas\"),\n",
    "    Governor(-84.670067, 50, \"Kentucky\"),\n",
    "    Governor(-91.867805, 50, \"Louisiana\"),\n",
    "    Governor(-69.381927, 68, \"Maine\"),\n",
    "    Governor(-76.802101, 61, \"Maryland\"),\n",
    "    Governor(-71.530106, 60, \"Massachusetts\"),\n",
    "    Governor(-84.536095, 58, \"Michigan\"),\n",
    "    Governor(-93.900192, 70, \"Minnesota\"),\n",
    "    Governor(-89.678696, 62, \"Mississippi\"),\n",
    "    Governor(-92.288368, 43, \"Missouri\"),\n",
    "    Governor(-110.454353, 51, \"Montana\"),\n",
    "    Governor(-98.268082, 52, \"Nebraska\"),\n",
    "    Governor(-117.055374, 53, \"Nevada\"),\n",
    "    Governor(-71.563896, 42, \"New Hampshire\"),\n",
    "    Governor(-74.521011, 54, \"New Jersey\"),\n",
    "    Governor(-106.248482, 57, \"New Mexico\"),\n",
    "    Governor(-74.948051, 59, \"New York\"),\n",
    "    Governor(-79.806419, 60, \"North Carolina\"),\n",
    "    Governor(-99.784012, 60, \"North Dakota\"),\n",
    "    Governor(-82.764915, 65, \"Ohio\"),\n",
    "    Governor(-96.928917, 62, \"Oklahoma\"),\n",
    "    Governor(-122.070938, 56, \"Oregon\"),\n",
    "    Governor(-77.209755, 68, \"Pennsylvania\"),\n",
    "    Governor(-71.51178, 46, \"Rhode Island\"),\n",
    "    Governor(-80.945007, 70, \"South Carolina\"),\n",
    "    Governor(-99.438828, 64, \"South Dakota\"),\n",
    "    Governor(-86.692345, 58, \"Tennessee\"),\n",
    "    Governor(-97.563461, 59, \"Texas\"),\n",
    "    Governor(-111.862434, 70, \"Utah\"),\n",
    "    Governor(-72.710686, 58, \"Vermont\"),\n",
    "    Governor(-78.169968, 60, \"Virginia\"),\n",
    "    Governor(-121.490494, 66, \"Washington\"),\n",
    "    Governor(-80.954453, 66, \"West Virginia\"),\n",
    "    Governor(-89.616508, 49, \"Wisconsin\"),\n",
    "    Governor(-107.30249, 55, \"Wyoming\"),\n",
    "]"
   ]
  },
  {
   "cell_type": "code",
   "execution_count": 137,
   "metadata": {},
   "outputs": [
    {
     "name": "stdout",
     "output_type": "stream",
     "text": [
      "Converged after 1 iterations.\n",
      "Cluster 0: [Alabama: (longitude: -86.79113, age: 72), Alaska: (longitude: -152.404419, age: 66), Arkansas: (longitude: -92.373123, age: 66), California: (longitude: -119.681564, age: 79), Colorado: (longitude: -105.311104, age: 65), Connecticut: (longitude: -72.755371, age: 61), Delaware: (longitude: -75.507141, age: 61), Florida: (longitude: -81.686783, age: 64), Georgia: (longitude: -83.643074, age: 74), Idaho: (longitude: -114.478828, age: 75), Illinois: (longitude: -88.986137, age: 60), Kansas: (longitude: -96.726486, age: 60), Maine: (longitude: -69.381927, age: 68), Maryland: (longitude: -76.802101, age: 61), Massachusetts: (longitude: -71.530106, age: 60), Michigan: (longitude: -84.536095, age: 58), Minnesota: (longitude: -93.900192, age: 70), Mississippi: (longitude: -89.678696, age: 62), New York: (longitude: -74.948051, age: 59), North Carolina: (longitude: -79.806419, age: 60), North Dakota: (longitude: -99.784012, age: 60), Ohio: (longitude: -82.764915, age: 65), Oklahoma: (longitude: -96.928917, age: 62), Pennsylvania: (longitude: -77.209755, age: 68), South Carolina: (longitude: -80.945007, age: 70), South Dakota: (longitude: -99.438828, age: 64), Tennessee: (longitude: -86.692345, age: 58), Texas: (longitude: -97.563461, age: 59), Utah: (longitude: -111.862434, age: 70), Vermont: (longitude: -72.710686, age: 58), Virginia: (longitude: -78.169968, age: 60), Washington: (longitude: -121.490494, age: 66), West Virginia: (longitude: -80.954453, age: 66)]\n",
      "\n",
      "Cluster 1: [Arizona: (longitude: -111.431221, age: 53), Hawaii: (longitude: -157.498337, age: 60), Indiana: (longitude: -86.258278, age: 49), Iowa: (longitude: -93.210526, age: 57), Kentucky: (longitude: -84.670067, age: 50), Louisiana: (longitude: -91.867805, age: 50), Missouri: (longitude: -92.288368, age: 43), Montana: (longitude: -110.454353, age: 51), Nebraska: (longitude: -98.268082, age: 52), Nevada: (longitude: -117.055374, age: 53), New Hampshire: (longitude: -71.563896, age: 42), New Jersey: (longitude: -74.521011, age: 54), New Mexico: (longitude: -106.248482, age: 57), Oregon: (longitude: -122.070938, age: 56), Rhode Island: (longitude: -71.51178, age: 46), Wisconsin: (longitude: -89.616508, age: 49), Wyoming: (longitude: -107.30249, age: 55)]\n",
      "\n"
     ]
    }
   ],
   "source": [
    "kmeans: KMeans[Governor] = KMeans(2, governors)\n",
    "result = kmeans.run()\n",
    "\n",
    "for index, cluster in enumerate(result):\n",
    "    print(f\"Cluster {index}: {cluster.points}\\n\")"
   ]
  },
  {
   "cell_type": "markdown",
   "metadata": {},
   "source": [
    "KMeans depends on initial cluster assignments. Run multiple times because results are different each time!\n",
    "KMeans++ Used to Initialize centroids based on probability distance to every point instead of pure randomness\n",
    "Another option is to choose centroids ahead of time based on domain data or user input.\n",
    "\n",
    "Variants on KMeans use other measures for the location of a centroid besides the means such as K-Medians or K-Mediods which uses an actual data point as the center of each cluster.\n",
    "\n"
   ]
  },
  {
   "cell_type": "markdown",
   "metadata": {},
   "source": [
    "# Usage"
   ]
  },
  {
   "cell_type": "markdown",
   "metadata": {},
   "source": [
    "\n",
    "KMeans can be used when we have unlabeled data and we want to find meaningful clusters within the data. For example, we might have a number of buildings, and want to find characteristics in common across the buildings. We could also try and group volunteers by their characteristics to find clusters of volunteers."
   ]
  },
  {
   "cell_type": "code",
   "execution_count": null,
   "metadata": {},
   "outputs": [],
   "source": []
  },
  {
   "cell_type": "code",
   "execution_count": null,
   "metadata": {},
   "outputs": [],
   "source": []
  },
  {
   "cell_type": "code",
   "execution_count": null,
   "metadata": {},
   "outputs": [],
   "source": []
  },
  {
   "cell_type": "code",
   "execution_count": null,
   "metadata": {},
   "outputs": [],
   "source": []
  },
  {
   "cell_type": "code",
   "execution_count": null,
   "metadata": {},
   "outputs": [],
   "source": []
  },
  {
   "cell_type": "code",
   "execution_count": null,
   "metadata": {},
   "outputs": [],
   "source": []
  },
  {
   "cell_type": "code",
   "execution_count": null,
   "metadata": {},
   "outputs": [],
   "source": []
  },
  {
   "cell_type": "code",
   "execution_count": null,
   "metadata": {},
   "outputs": [],
   "source": []
  },
  {
   "cell_type": "code",
   "execution_count": null,
   "metadata": {},
   "outputs": [],
   "source": []
  },
  {
   "cell_type": "code",
   "execution_count": null,
   "metadata": {},
   "outputs": [],
   "source": []
  },
  {
   "cell_type": "code",
   "execution_count": null,
   "metadata": {},
   "outputs": [],
   "source": []
  },
  {
   "cell_type": "code",
   "execution_count": null,
   "metadata": {},
   "outputs": [],
   "source": []
  },
  {
   "cell_type": "code",
   "execution_count": null,
   "metadata": {},
   "outputs": [],
   "source": []
  },
  {
   "cell_type": "code",
   "execution_count": null,
   "metadata": {},
   "outputs": [],
   "source": []
  },
  {
   "cell_type": "code",
   "execution_count": null,
   "metadata": {},
   "outputs": [],
   "source": []
  }
 ],
 "metadata": {
  "kernelspec": {
   "display_name": "Python 3",
   "language": "python",
   "name": "python3"
  },
  "language_info": {
   "codemirror_mode": {
    "name": "ipython",
    "version": 3
   },
   "file_extension": ".py",
   "mimetype": "text/x-python",
   "name": "python",
   "nbconvert_exporter": "python",
   "pygments_lexer": "ipython3",
   "version": "3.7.3"
  }
 },
 "nbformat": 4,
 "nbformat_minor": 2
}
